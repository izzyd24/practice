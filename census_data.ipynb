{
 "cells": [
  {
   "cell_type": "code",
   "execution_count": 1,
   "id": "c7658701",
   "metadata": {},
   "outputs": [],
   "source": [
    "# Python SQL toolkit and Object Relational Mapper\n",
    "import sqlalchemy\n",
    "from sqlalchemy.ext.automap import automap_base\n",
    "from sqlalchemy.orm import Session\n",
    "from sqlalchemy import create_engine, func\n",
    "\n",
    "import pandas as pd"
   ]
  },
  {
   "cell_type": "code",
   "execution_count": 13,
   "id": "a203d008",
   "metadata": {},
   "outputs": [],
   "source": [
    "# Path to sqlite, THIS MAY NOT MATCH YOUR PATH\n",
    "database_path = \"Census_Data.sqlite\""
   ]
  },
  {
   "cell_type": "code",
   "execution_count": 14,
   "id": "4d2dd946",
   "metadata": {},
   "outputs": [],
   "source": [
    "# Create an engine that can talk to the database\n",
    "engine = create_engine(f\"sqlite:///{database_path}\")\n",
    "conn = engine.connect()"
   ]
  },
  {
   "cell_type": "code",
   "execution_count": 15,
   "id": "14d34369",
   "metadata": {},
   "outputs": [],
   "source": [
    "# reflect an existing database into a new model\n",
    "# reflect = transfer contents of databse link above to new model of data here\n",
    "Base = automap_base()\n",
    "# this helped us create a class automap schemda to then let us...\n",
    "\n",
    "# reflect the tables\n",
    "# prepare function to let us create mappings \n",
    "Base.prepare(engine, reflect=True)"
   ]
  },
  {
   "cell_type": "code",
   "execution_count": 16,
   "id": "670e40ac",
   "metadata": {},
   "outputs": [
    {
     "data": {
      "text/plain": [
       "[]"
      ]
     },
     "execution_count": 16,
     "metadata": {},
     "output_type": "execute_result"
    }
   ],
   "source": [
    "# We can view all of the classes that automap found\n",
    "# confirm that all data in SQLite link came here\n",
    "Base.classes.keys()"
   ]
  },
  {
   "cell_type": "code",
   "execution_count": null,
   "id": "a41d7286",
   "metadata": {},
   "outputs": [],
   "source": [
    "key1 = Base.classes.key1\n",
    "key2 = Base.classes.key2"
   ]
  },
  {
   "cell_type": "code",
   "execution_count": null,
   "id": "2dfa5ce6",
   "metadata": {},
   "outputs": [],
   "source": [
    "# create a session link to a database\n",
    "# the true step in linking\n",
    "# now we can create queries\n",
    "session = Session(engine)"
   ]
  },
  {
   "cell_type": "code",
   "execution_count": null,
   "id": "46908323",
   "metadata": {},
   "outputs": [],
   "source": [
    "# take my base class keys, and then show the columns, create a df?\n",
    "# df = pd.DataFrame(X,y)"
   ]
  }
 ],
 "metadata": {
  "kernelspec": {
   "display_name": "PythonData",
   "language": "python",
   "name": "pythondata"
  },
  "language_info": {
   "codemirror_mode": {
    "name": "ipython",
    "version": 3
   },
   "file_extension": ".py",
   "mimetype": "text/x-python",
   "name": "python",
   "nbconvert_exporter": "python",
   "pygments_lexer": "ipython3",
   "version": "3.7.11"
  }
 },
 "nbformat": 4,
 "nbformat_minor": 5
}
